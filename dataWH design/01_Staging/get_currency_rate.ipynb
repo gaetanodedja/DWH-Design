{
 "cells": [
  {
   "cell_type": "code",
   "execution_count": 1,
   "id": "17900002",
   "metadata": {},
   "outputs": [],
   "source": [
    "import pandas as pd\n",
    "import requests\n",
    "from datetime import datetime, timedelta\n",
    "#from py_exchangeratesapi import Api"
   ]
  },
  {
   "cell_type": "code",
   "execution_count": 2,
   "id": "0fed2f7b",
   "metadata": {},
   "outputs": [],
   "source": [
    "#api = Api(API_KEY)"
   ]
  },
  {
   "cell_type": "raw",
   "id": "4949653c",
   "metadata": {},
   "source": [
    "Declaring parameters as variables."
   ]
  },
  {
   "cell_type": "code",
   "execution_count": 3,
   "id": "fa7ea53b",
   "metadata": {},
   "outputs": [],
   "source": [
    "#'http://api.exchangeratesapi.io/v1/fluctuation'\n",
    "#API_KEY = 'e37b55562fce53d9066affcd84dcf2bb'\n",
    "base_url = 'https://api.exchangerate.host/timeseries'\n",
    "base_currency = 'EUR'\n",
    "target_currencies = ['SEK', 'PLN', 'NOK', 'GBP', 'DKK', 'CHF']\n",
    "start_date = (datetime.now() - timedelta(days=3 * 365)).date().strftime(\"%Y-%m-%d\") \n",
    "end_date = datetime.now().date().strftime(\"%Y-%m-%d\") "
   ]
  },
  {
   "cell_type": "code",
   "execution_count": 4,
   "id": "a70cfe14",
   "metadata": {},
   "outputs": [],
   "source": [
    "data = []"
   ]
  },
  {
   "cell_type": "raw",
   "id": "1588efa7",
   "metadata": {},
   "source": [
    "Getting data from the api and appending them to the empty list. "
   ]
  },
  {
   "cell_type": "code",
   "execution_count": 5,
   "id": "6786ac30",
   "metadata": {},
   "outputs": [],
   "source": [
    "for currency in target_currencies:\n",
    "    url = f'{base_url}?start_date={start_date}&end_date={end_date}&base={base_currency}&symbols={currency}'\n",
    "    response = requests.get(url)\n",
    "    result = response.json()\n",
    "#result    \n",
    "    for date, rates in result['rates'].items():\n",
    "        data.append({'Date': date, 'Currency': currency, 'ExchangeRate': rates[currency]})\n",
    "    "
   ]
  },
  {
   "cell_type": "raw",
   "id": "930ec233",
   "metadata": {},
   "source": [
    "Converting list to dataframe and saving as csv."
   ]
  },
  {
   "cell_type": "code",
   "execution_count": 6,
   "id": "3aa154fb",
   "metadata": {},
   "outputs": [],
   "source": [
    "df = pd.DataFrame(data)"
   ]
  },
  {
   "cell_type": "code",
   "execution_count": 7,
   "id": "dff7c48d",
   "metadata": {},
   "outputs": [
    {
     "data": {
      "text/html": [
       "<div>\n",
       "<style scoped>\n",
       "    .dataframe tbody tr th:only-of-type {\n",
       "        vertical-align: middle;\n",
       "    }\n",
       "\n",
       "    .dataframe tbody tr th {\n",
       "        vertical-align: top;\n",
       "    }\n",
       "\n",
       "    .dataframe thead th {\n",
       "        text-align: right;\n",
       "    }\n",
       "</style>\n",
       "<table border=\"1\" class=\"dataframe\">\n",
       "  <thead>\n",
       "    <tr style=\"text-align: right;\">\n",
       "      <th></th>\n",
       "      <th>Date</th>\n",
       "      <th>Currency</th>\n",
       "      <th>ExchangeRate</th>\n",
       "    </tr>\n",
       "  </thead>\n",
       "  <tbody>\n",
       "    <tr>\n",
       "      <th>0</th>\n",
       "      <td>2020-08-16</td>\n",
       "      <td>SEK</td>\n",
       "      <td>10.287375</td>\n",
       "    </tr>\n",
       "    <tr>\n",
       "      <th>1</th>\n",
       "      <td>2020-08-17</td>\n",
       "      <td>SEK</td>\n",
       "      <td>10.309879</td>\n",
       "    </tr>\n",
       "    <tr>\n",
       "      <th>2</th>\n",
       "      <td>2020-08-18</td>\n",
       "      <td>SEK</td>\n",
       "      <td>10.312558</td>\n",
       "    </tr>\n",
       "    <tr>\n",
       "      <th>3</th>\n",
       "      <td>2020-08-19</td>\n",
       "      <td>SEK</td>\n",
       "      <td>10.304694</td>\n",
       "    </tr>\n",
       "    <tr>\n",
       "      <th>4</th>\n",
       "      <td>2020-08-20</td>\n",
       "      <td>SEK</td>\n",
       "      <td>10.327916</td>\n",
       "    </tr>\n",
       "  </tbody>\n",
       "</table>\n",
       "</div>"
      ],
      "text/plain": [
       "         Date Currency  ExchangeRate\n",
       "0  2020-08-16      SEK     10.287375\n",
       "1  2020-08-17      SEK     10.309879\n",
       "2  2020-08-18      SEK     10.312558\n",
       "3  2020-08-19      SEK     10.304694\n",
       "4  2020-08-20      SEK     10.327916"
      ]
     },
     "execution_count": 7,
     "metadata": {},
     "output_type": "execute_result"
    }
   ],
   "source": [
    "df.head()"
   ]
  },
  {
   "cell_type": "code",
   "execution_count": 8,
   "id": "77924636",
   "metadata": {},
   "outputs": [],
   "source": [
    "csv_filename = 'C:/Users/User/Desktop/database design/01_Staging Part/currency_rates.csv'"
   ]
  },
  {
   "cell_type": "code",
   "execution_count": 9,
   "id": "3b9c92d3",
   "metadata": {},
   "outputs": [],
   "source": [
    "df.to_csv(csv_filename, index=False)"
   ]
  },
  {
   "cell_type": "code",
   "execution_count": null,
   "id": "10632009",
   "metadata": {},
   "outputs": [],
   "source": []
  }
 ],
 "metadata": {
  "kernelspec": {
   "display_name": "Python 3 (ipykernel)",
   "language": "python",
   "name": "python3"
  },
  "language_info": {
   "codemirror_mode": {
    "name": "ipython",
    "version": 3
   },
   "file_extension": ".py",
   "mimetype": "text/x-python",
   "name": "python",
   "nbconvert_exporter": "python",
   "pygments_lexer": "ipython3",
   "version": "3.9.13"
  }
 },
 "nbformat": 4,
 "nbformat_minor": 5
}
